{
 "cells": [
  {
   "cell_type": "markdown",
   "metadata": {
    "collapsed": false
   },
   "source": [
    "# Diving into Data Science with Regression\n",
    "\n",
    "Every data science project can and should follow a given structure. In this lesson, we introduce this structure and use one-dimensional regression as an example. To the best of our capabilities, the proposed structure should be followed in practice.\n",
    "\n",
    "## PPDAC: Problem, Plan, Data, Analysis and Conclusion\n",
    "\n",
    "![from creativemaths.net/blog](https://learnandteachstatistics.files.wordpress.com/2015/07/ppdac_complete_background.png)\n",
    "\n",
    "- **Problem**: understanding and defining the problem, how do we go about answering?\n",
    "- **Plan**: What to measure and how? Study design? Recording? Collecting?\n",
    "- **Data**: collection, management, cleaning\n",
    "- **Analysis**: sort data; construct tables, graphs; look for patterns; hypothesis generation\n",
    "- **Conclusion**: Communication, Conclusions, Interpretation, New Ideas (Repeat Cycle if required)\n",
    "\n",
    "For more details, see Wolff, A. et al, \"Creating an Understanding of Data Literacy for a Data-driven Society\", The Journal of Community Informatics, Vol 12, issue 3, 2016, doi:[10.15353/joci.v12i3.3275](https://www.ci-journal.net/index.php/JoCI/article/view/3275)"
   ]
  },
  {
   "cell_type": "markdown",
   "metadata": {
    "collapsed": false
   },
   "source": [
    "## Problem statement\n",
    "\n",
    "![from commons.wikimedia](https://upload.wikimedia.org/wikipedia/commons/0/0d/Blue_iceberg_south_polar_circle.jpg)\n",
    "\n",
    "- I like to know if the amount of ice on polar caps is really decreasing per year. \n",
    "- For this, I'd like to know how much ice is found during the coldest period of the polar year (March).\n",
    "- it might be nice to know by how much the polar is getting less per year."
   ]
  },
  {
   "cell_type": "markdown",
   "metadata": {
    "collapsed": false
   },
   "source": [
    "## Plan\n",
    "\n",
    "- I need data from the polar region that reports the monthly ice area over last years. \n",
    "- It might be nice if this data goes back to the 19th century so that I can be sure of the trend.\n",
    "- This data should not be large and can be stored locally so that I can always return to it.\n",
    "- I am mostly interested on the ice surface area as a proxy metric/observable for the amount of ice."
   ]
  },
  {
   "cell_type": "markdown",
   "metadata": {
    "collapsed": false
   },
   "source": [
    "## Data\n",
    "\n",
    "- Updated June 2020\n",
    "- Can be obtained from [here](http://sustainabilitymath.org/excel/ArcticIceDataMonth-R.csv) \n",
    "- Data from the National Snow and Ice Data Center: http://nsidc.org; Sea Ice Index page http://nsidc.org/data/g02135.html; Data Located at  ftp://sidads.colorado.edu/DATASETS/NOAA/G02135/\n",
    " \n",
    "> Important Note: The \"extent\" column includes the area near the pole not\n",
    "> imaged by the sensor. It is assumed to be entirely ice covered with at\n",
    "> least 15% concentration. However, the \"area\" column excludes the area not\n",
    "> imaged by the sensor. This area is 1.19 million square kilometers for SMMR\n",
    "> (from the beginning of the series through June 1987) and 0.31 million\n",
    "> square kilometers for SSM/I (from July 1987 to present). Therefore, there\n",
    "> is a discontinuity in the \"area\" data values in this file at the June/July\n",
    "> 1987 boundary.\n",
    "> \n",
    "\n"
   ]
  },
  {
   "cell_type": "code",
   "execution_count": 2,
   "metadata": {
    "collapsed": false
   },
   "outputs": [
    {
     "name": "stdout",
     "output_type": "stream",
     "text": [
      "pandas version: 1.0.5\n"
     ]
    }
   ],
   "source": [
    "import pandas as pd\n",
    "print(\"pandas version:\", pd.__version__)"
   ]
  },
  {
   "cell_type": "code",
   "execution_count": 3,
   "metadata": {
    "collapsed": false
   },
   "outputs": [
    {
     "name": "stdout",
     "output_type": "stream",
     "text": [
      "   year  Years after 1970    Jan    Feb    Mar    Apr    May    Jun    Jul  \\\n",
      "0  1979                 9  15.41  16.18  16.34  15.45  13.86  12.53  10.31   \n",
      "1  1980                10  14.86  15.96  16.04  15.43  13.79  12.20  10.10   \n",
      "2  1981                11  14.91  15.60  15.63  15.01  13.80  12.43  10.27   \n",
      "3  1982                12  15.18  15.97  16.04  15.47  13.97  12.48  10.37   \n",
      "4  1983                13  14.94  16.01  16.09  15.17  13.49  12.30  10.57   \n",
      "\n",
      "    Aug   Sep   Oct    Nov    Dec  \n",
      "0  8.04  7.05  8.75  10.94  13.34  \n",
      "1  7.98  7.67  9.18  11.38  13.59  \n",
      "2  7.84  7.14  8.86  10.93  13.34  \n",
      "3  8.14  7.30  9.42  11.63  13.64  \n",
      "4  8.19  7.39  9.33  11.46   13.3  \n",
      "    year  Years after 1970    Jan    Feb    Mar    Apr    May    Jun   Jul  \\\n",
      "36  2015                45   13.6  14.40  14.37  13.89  12.47  10.88  8.38   \n",
      "37  2016                46  13.46  14.20  14.40  13.68  11.92  10.41  7.94   \n",
      "38  2017                47  13.19  14.12  14.29  13.75  12.63  10.76  7.94   \n",
      "39  2018                48  13.08  13.97  14.30  13.70  12.23  10.78  8.27   \n",
      "40  2019                49  13.56  14.40  14.55  13.45  12.16  10.53  7.59   \n",
      "\n",
      "     Aug   Sep   Oct   Nov    Dec  \n",
      "36  5.60  4.62  6.97  9.85  12.04  \n",
      "37  5.37  4.53  6.08  8.66  11.46  \n",
      "38  5.48  4.82  6.77  9.49  11.74  \n",
      "39  5.61  4.79  6.13  9.82  11.86  \n",
      "40  5.03  4.32  5.66  9.33  11.95  \n",
      "looks good so far\n"
     ]
    }
   ],
   "source": [
    "df = pd.read_csv(\"http://sustainabilitymath.org/excel/ArcticIceDataMonth-R.csv\")\n",
    "print(df.head())\n",
    "print(df.tail())\n",
    "\n",
    "print(\"looks good so far\")\n"
   ]
  },
  {
   "cell_type": "code",
   "execution_count": 4,
   "metadata": {
    "collapsed": false
   },
   "outputs": [
    {
     "name": "stdout",
     "output_type": "stream",
     "text": [
      "(41, 14)\n",
      "year                  int64\n",
      "Years after 1970      int64\n",
      "Jan                  object\n",
      "Feb                 float64\n",
      "Mar                 float64\n",
      "Apr                 float64\n",
      "May                 float64\n",
      "Jun                 float64\n",
      "Jul                 float64\n",
      "Aug                 float64\n",
      "Sep                 float64\n",
      "Oct                 float64\n",
      "Nov                 float64\n",
      "Dec                  object\n",
      "dtype: object\n",
      ">> whoops, Jan and Dec are of type `object`?\n"
     ]
    }
   ],
   "source": [
    "print(df.shape)\n",
    "print(df.dtypes)\n",
    "print(\">> whoops, Jan and Dec are of type `object`?\")"
   ]
  },
  {
   "cell_type": "code",
   "execution_count": 5,
   "metadata": {
    "collapsed": false
   },
   "outputs": [
    {
     "name": "stdout",
     "output_type": "stream",
     "text": [
      "      Jan\n",
      "0   15.41\n",
      "1   14.86\n",
      "2   14.91\n",
      "3   15.18\n",
      "4   14.94\n",
      "5   14.47\n",
      "6   14.72\n",
      "7   14.89\n",
      "8   14.97\n",
      "9      na\n",
      "10  14.95\n",
      "11  14.78\n",
      "12  14.36\n",
      "13  14.64\n",
      "14   14.9\n",
      "15  14.73\n",
      "16  14.59\n",
      "17  14.18\n",
      "18  14.42\n",
      "19  14.72\n",
      "20  14.36\n",
      "21  14.22\n",
      "22   14.2\n",
      "23  14.27\n",
      "24  14.39\n",
      "25  14.03\n",
      "26  13.66\n",
      "27  13.47\n",
      "28   13.7\n",
      "29  13.89\n",
      "30  13.91\n",
      "31  13.74\n",
      "32  13.46\n",
      "33  13.73\n",
      "34   13.7\n",
      "35  13.65\n",
      "36   13.6\n",
      "37  13.46\n",
      "38  13.19\n",
      "39  13.08\n",
      "40  13.56\n",
      "      Jan\n",
      "0   15.41\n",
      "1   14.86\n",
      "2   14.91\n",
      "3   15.18\n",
      "4   14.94\n",
      "5   14.47\n",
      "6   14.72\n",
      "7   14.89\n",
      "8   14.97\n",
      "9     NaN\n",
      "10  14.95\n",
      "11  14.78\n",
      "12  14.36\n",
      "13  14.64\n",
      "14  14.90\n",
      "15  14.73\n",
      "16  14.59\n",
      "17  14.18\n",
      "18  14.42\n",
      "19  14.72\n",
      "20  14.36\n",
      "21  14.22\n",
      "22  14.20\n",
      "23  14.27\n",
      "24  14.39\n",
      "25  14.03\n",
      "26  13.66\n",
      "27  13.47\n",
      "28  13.70\n",
      "29  13.89\n",
      "30  13.91\n",
      "31  13.74\n",
      "32  13.46\n",
      "33  13.73\n",
      "34  13.70\n",
      "35  13.65\n",
      "36  13.60\n",
      "37  13.46\n",
      "38  13.19\n",
      "39  13.08\n",
      "40  13.56\n"
     ]
    }
   ],
   "source": [
    "jan_col = df[[\"Jan\"]]\n",
    "print(jan_col)\n",
    "df.iloc[:,2] = pd.to_numeric(df.iloc[:,2], errors='coerce')\n",
    "print(df[[\"Jan\"]])\n",
    "#see https://stackoverflow.com/a/28648923/3098688"
   ]
  },
  {
   "cell_type": "code",
   "execution_count": 6,
   "metadata": {
    "collapsed": false
   },
   "outputs": [
    {
     "name": "stdout",
     "output_type": "stream",
     "text": [
      "      Jan\n",
      "0   15.41\n",
      "1   14.86\n",
      "2   14.91\n",
      "3   15.18\n",
      "4   14.94\n",
      "5   14.47\n",
      "6   14.72\n",
      "7   14.89\n",
      "8   14.97\n",
      "9   14.97\n",
      "10  14.95\n",
      "11  14.78\n",
      "12  14.36\n",
      "13  14.64\n",
      "14  14.90\n",
      "15  14.73\n",
      "16  14.59\n",
      "17  14.18\n",
      "18  14.42\n",
      "19  14.72\n",
      "20  14.36\n",
      "21  14.22\n",
      "22  14.20\n",
      "23  14.27\n",
      "24  14.39\n",
      "25  14.03\n",
      "26  13.66\n",
      "27  13.47\n",
      "28  13.70\n",
      "29  13.89\n",
      "30  13.91\n",
      "31  13.74\n",
      "32  13.46\n",
      "33  13.73\n",
      "34  13.70\n",
      "35  13.65\n",
      "36  13.60\n",
      "37  13.46\n",
      "38  13.19\n",
      "39  13.08\n",
      "40  13.56\n"
     ]
    }
   ],
   "source": [
    "#fill NaN values\n",
    "df[[\"Jan\"]] = df[[\"Jan\"]].fillna(method='ffill')\n",
    "print(df[[\"Jan\"]])"
   ]
  },
  {
   "cell_type": "code",
   "execution_count": 7,
   "metadata": {
    "collapsed": false
   },
   "outputs": [
    {
     "data": {
      "text/plain": [
       "year                  int64\n",
       "Years after 1970      int64\n",
       "Jan                 float64\n",
       "Feb                 float64\n",
       "Mar                 float64\n",
       "Apr                 float64\n",
       "May                 float64\n",
       "Jun                 float64\n",
       "Jul                 float64\n",
       "Aug                 float64\n",
       "Sep                 float64\n",
       "Oct                 float64\n",
       "Nov                 float64\n",
       "Dec                 float64\n",
       "dtype: object"
      ]
     },
     "execution_count": 7,
     "metadata": {},
     "output_type": "execute_result"
    }
   ],
   "source": [
    "df.iloc[:,-1] = pd.to_numeric(df.iloc[:,-1], errors=\"coerce\").fillna(method='ffill')\n",
    "df.dtypes"
   ]
  },
  {
   "cell_type": "code",
   "execution_count": 8,
   "metadata": {
    "collapsed": false
   },
   "outputs": [
    {
     "name": "stdout",
     "output_type": "stream",
     "text": [
      "numpy version: 1.19.4\n"
     ]
    }
   ],
   "source": [
    "import numpy as np\n",
    "print(f\"numpy version: {np.__version__}\")"
   ]
  },
  {
   "cell_type": "code",
   "execution_count": 9,
   "metadata": {
    "collapsed": false
   },
   "outputs": [
    {
     "name": "stdout",
     "output_type": "stream",
     "text": [
      "[15.41 16.18 16.34 15.45 13.86 12.53 10.31  8.04  7.05  8.75 10.94 13.34]\n",
      "2\n",
      "8\n",
      "[13.56 14.4  14.55 13.45 12.16 10.53  7.59  5.03  4.32  5.66  9.33 11.95]\n",
      "2\n",
      "8\n"
     ]
    }
   ],
   "source": [
    "#checking the assumption which month is the coldest, i.e. has the largest extent of ice\n",
    "#first row\n",
    "firstrow = df.iloc[0,2:].values\n",
    "print(firstrow)\n",
    "print(np.argmax(firstrow))\n",
    "print(np.argmin(firstrow))\n",
    "\n",
    "#last row\n",
    "lastrow = df.iloc[-1,2:].values\n",
    "print(lastrow)\n",
    "print(np.argmax(lastrow))\n",
    "print(np.argmin(lastrow))\n"
   ]
  },
  {
   "cell_type": "markdown",
   "metadata": {
    "collapsed": false
   },
   "source": [
    "## Analysis\n",
    "\n",
    "Let's look at the data first."
   ]
  },
  {
   "cell_type": "code",
   "execution_count": 10,
   "metadata": {
    "collapsed": false
   },
   "outputs": [
    {
     "name": "stdout",
     "output_type": "stream",
     "text": [
      "numpy version: 1.19.4\n"
     ]
    }
   ],
   "source": [
    "import matplotlib.pyplot as plt\n",
    "print(f\"numpy version: {np.__version__}\")\n",
    "plt.style.use('dark_background')"
   ]
  },
  {
   "cell_type": "code",
   "execution_count": 11,
   "metadata": {
    "collapsed": false
   },
   "outputs": [
    {
     "data": {
      "text/plain": [
       "Text(0, 0.5, 'amount / a.u.')"
      ]
     },
     "execution_count": 11,
     "metadata": {},
     "output_type": "execute_result"
    },
    {
     "data": {
      "image/png": "[encoded data removed]",
      "text/plain": [
       "<Figure size 432x288 with 1 Axes>"
      ]
     },
     "metadata": {},
     "output_type": "display_data"
    }
   ],
   "source": [
    "ax = df.plot(x=\"year\", y=\"Mar\", kind=\"line\")\n",
    "ax.set_ylabel(\"amount / a.u.\")\n"
   ]
  },
  {
   "cell_type": "code",
   "execution_count": 12,
   "metadata": {
    "collapsed": false
   },
   "outputs": [
    {
     "data": {
      "text/plain": [
       "<AxesSubplot:xlabel='year'>"
      ]
     },
     "execution_count": 12,
     "metadata": {},
     "output_type": "execute_result"
    },
    {
     "data": {
      "image/png": "[encoded data removed]",
      "text/plain": [
       "<Figure size 432x288 with 1 Axes>"
      ]
     },
     "metadata": {},
     "output_type": "display_data"
    }
   ],
   "source": [
    "df.plot(x=\"year\", y=\"Sep\", kind=\"line\")"
   ]
  },
  {
   "cell_type": "code",
   "execution_count": 13,
   "metadata": {
    "collapsed": false
   },
   "outputs": [
    {
     "data": {
      "text/plain": [
       "<AxesSubplot:xlabel='year'>"
      ]
     },
     "execution_count": 13,
     "metadata": {},
     "output_type": "execute_result"
    },
    {
     "data": {
      "image/png": "[encoded data removed]",
      "text/plain": [
       "<Figure size 432x288 with 1 Axes>"
      ]
     },
     "metadata": {},
     "output_type": "display_data"
    }
   ],
   "source": [
    "df.plot(x=\"year\", y=\"Jan\", kind=\"line\")\n"
   ]
  },
  {
   "cell_type": "markdown",
   "metadata": {
    "collapsed": false
   },
   "source": [
    "If you recall, we wanted to fit a linear model to this data. For this, we bring scikit-learn to the table.\n",
    "\n",
    "This is linear_model performs a standard least squares regression, i.e.\n",
    "given the very general formula $y = w^T*x + b$ where $W$ can be a vector of weights and $b$ can be a vector\n",
    "we are trying to minimize. In other words, we are trying to find:\n",
    "    $min_{w,b} |(w^T*x + b) - y|^2$\n",
    "\n"
   ]
  },
  {
   "cell_type": "code",
   "execution_count": 14,
   "metadata": {
    "collapsed": false
   },
   "outputs": [
    {
     "name": "stdout",
     "output_type": "stream",
     "text": [
      "Scikit-learn version: 0.23.1\n"
     ]
    }
   ],
   "source": [
    "import sklearn\n",
    "print(\"Scikit-learn version:\", sklearn.__version__)"
   ]
  },
  {
   "cell_type": "code",
   "execution_count": 15,
   "metadata": {
    "collapsed": false
   },
   "outputs": [
    {
     "name": "stdout",
     "output_type": "stream",
     "text": [
      "y = w*x + b = -0.04173*x + 98.69563\n"
     ]
    }
   ],
   "source": [
    "from sklearn import linear_model\n",
    "\n",
    "ytrain = df[[\"Mar\"]].values\n",
    "xtrain = df[[\"year\"]].values\n",
    "\n",
    "model = linear_model.LinearRegression()\n",
    "model = model.fit(xtrain, ytrain)\n",
    "print(\"y = w*x + b = {:2.5f}*x + {:2.5f}\".format(model.coef_[0][0],\n",
    "                                                 model.intercept_[0]))"
   ]
  },
  {
   "cell_type": "code",
   "execution_count": 16,
   "metadata": {
    "collapsed": false
   },
   "outputs": [
    {
     "data": {
      "text/plain": [
       "[<matplotlib.lines.Line2D at 0x7fdcdc772c10>]"
      ]
     },
     "execution_count": 16,
     "metadata": {},
     "output_type": "execute_result"
    },
    {
     "data": {
      "image/png": "[encoded data removed]",
      "text/plain": [
       "<Figure size 432x288 with 1 Axes>"
      ]
     },
     "metadata": {},
     "output_type": "display_data"
    }
   ],
   "source": [
    "yhat_train = model.predict(df[[\"year\"]].values)\n",
    "\n",
    "ax = df.plot(x=\"year\", y=\"Mar\", kind=\"line\")\n",
    "ax.set_ylabel(\"amount / a.u.\")\n",
    "ax.plot(xtrain, yhat_train, color=\"blue\", linewidth=3)"
   ]
  },
  {
   "cell_type": "code",
   "execution_count": 17,
   "metadata": {
    "collapsed": false
   },
   "outputs": [
    {
     "name": "stdout",
     "output_type": "stream",
     "text": [
      "0.06168049587830355\n"
     ]
    }
   ],
   "source": [
    "# before drawing any conclusions, we may want to check by something other than our eye how good our model is\n",
    "# a solid choice is the mean squared error (MSE) metric as such a goodness-of-fit metric\n",
    "#      $ MSE = \\frac{1}{n} \\sum^{n}_{i} (y_i - \\hat{y})^2 $\n",
    "#\n",
    "# in this case, we stick to something simple as the MSE as it offers a straigth forward\n",
    "# statistical interpretation, i.e. in the limit of large numbers the expectation value of\n",
    "# MSE of an estimator $\\hat{\\theta}$ yields \n",
    "#\n",
    "#      $ \\mathcal{E}(\\hat{\\theta}) = Var_{\\theta}(\\hat{\\theta}) + Bias(\\hat{\\theta}, \\theta)^2\n",
    "# \n",
    "\n",
    "def mse(y_, y_hat):\n",
    "    \"\"\" compute the mean squared error between y (the observations) and y_hat (the prediction) \"\"\"\n",
    "\n",
    "    assert y_.shape == y_hat.shape, f\"shapes of y_ and y_hat differ: {y_.shape} and {y_hat.shape}\"\n",
    "\n",
    "    return ((y_ - y_hat)**2).sum()/y_.size\n",
    "\n",
    "score = mse(ytrain, yhat_train)\n",
    "print(score)\n"
   ]
  },
  {
   "cell_type": "code",
   "execution_count": 18,
   "metadata": {
    "collapsed": false
   },
   "outputs": [
    {
     "name": "stdout",
     "output_type": "stream",
     "text": [
      "MSE =  0.06168049587830355\n",
      "0.0015815511763667576\n"
     ]
    }
   ],
   "source": [
    "# but of course sklearn offers this as well\n",
    "from sklearn.metrics import mean_squared_error\n",
    "score = mean_squared_error(ytrain, yhat_train)\n",
    "print(\"MSE = \", score)\n",
    "\n",
    "# as we (implicetely) assumened normality of the observations around the\n",
    "# best fit of the linear predictor, we know that the MSE follows a $\\chi^2$ distribution\n",
    "# with n-2 degrees of freedom. Here n is the number of data points we have,\n",
    "# and we subtract 2 as we were fitting 2 parameters\n",
    "\n",
    "print(score/(ytrain.size - 2))\n",
    "# This provides confidence that we produced an unbiased estimate and that\n",
    "# our variance is extremely low\n"
   ]
  },
  {
   "cell_type": "code",
   "execution_count": 112,
   "metadata": {
    "collapsed": false
   },
   "outputs": [
    {
     "name": "stdout",
     "output_type": "stream",
     "text": [
      "2365\n"
     ]
    }
   ],
   "source": [
    "# when is the ice up in March?\n",
    "end_of_ice = int(np.round(model.intercept_[0]/(-1*model.coef_[0][0])))\n",
    "print(end_of_ice)\n"
   ]
  },
  {
   "cell_type": "markdown",
   "metadata": {
    "collapsed": false
   },
   "source": [
    "## Conclusion\n",
    "\n",
    "Our analysis revealed that the amount of polar surface ice on earth is decreasing with time. \n",
    "Given a linear model $y = w*x+b$, the parameters are estimated as follows for \n",
    "the amount of ice in March every year: \n",
    "\n",
    "- slope $w = -0.04173$\n",
    "- intercept $b = 98.69563$\n",
    "\n",
    "Given this model, we expect that there will be no ice in Mar in 2365 the latest. \n",
    "A study of uncertainties would need to be conducted subsequently"
   ]
  },
  {
   "cell_type": "code",
   "execution_count": null,
   "metadata": {
    "collapsed": false
   },
   "outputs": [],
   "source": []
  }
 ],
 "metadata": {
  "kernelspec": {
   "argv": [
    "python",
    "-m",
    "ipykernel_launcher",
    "-f",
    "{connection_file}"
   ],
   "display_name": "Python 3",
   "env": null,
   "interrupt_mode": "signal",
   "language": "python",
   "metadata": null,
   "name": "python3"
  },
  "name": "script.ipynb"
 },
 "nbformat": 4,
 "nbformat_minor": 4
}
