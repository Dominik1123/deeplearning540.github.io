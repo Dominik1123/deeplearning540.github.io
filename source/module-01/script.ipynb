{
 "cells": [
  {
   "cell_type": "markdown",
   "metadata": {
    "collapsed": false
   },
   "source": [
    "# Diving into Data Science with Regression\n",
    "\n",
    "Every data science project can and should follow a given structure. In this lesson, we introduce this structure and use one-dimensional regression as an example. To the best of our capabilities, the proposed structure should be followed in practice.\n",
    "\n",
    "## PPDAC: Problem, Plan, Data, Analysis and Conclusion\n",
    "\n",
    "![from creativemaths.net/blog](https://learnandteachstatistics.files.wordpress.com/2015/07/ppdac_complete_background.png)\n",
    "\n",
    "- **Problem**: understanding and defining the problem, how do we go about answering?\n",
    "- **Plan**: What to measure and how? Study design? Recording? Collecting?\n",
    "- **Data**: collection, management, cleaning\n",
    "- **Analysis**: sort data; construct tables, graphs; look for patterns; hypothesis generation\n",
    "- **Conclusion**: Communication, Conclusions, Interpretation, New Ideas (Repeat Cycle if required)\n",
    "\n",
    "For more details, see Wolff, A. et al, \"Creating an Understanding of Data Literacy for a Data-driven Society\", The Journal of Community Informatics, Vol 12, issue 3, 2016, doi:[10.15353/joci.v12i3.3275](https://www.ci-journal.net/index.php/JoCI/article/view/3275)"
   ]
  },
  {
   "cell_type": "markdown",
   "metadata": {
    "collapsed": false
   },
   "source": [
    "## Problem statement\n",
    "\n",
    "![from commons.wikimedia](https://upload.wikimedia.org/wikipedia/commons/0/0d/Blue_iceberg_south_polar_circle.jpg)\n",
    "\n",
    "- I like to know if the amount of ice on polar caps is really decreasing per year. \n",
    "- For this, I'd like to know how much ice is found during the coldest period of the polar year (March).\n",
    "- it might be nice to know by how much the polar is getting less per year."
   ]
  },
  {
   "cell_type": "markdown",
   "metadata": {
    "collapsed": false
   },
   "source": [
    "## Plan\n",
    "\n",
    "- I need data from the polar region that reports the monthly ice area over last years. \n",
    "- It might be nice if this data goes back to the 19th century so that I can be sure of the trend.\n",
    "- This data should not be large and can be stored locally so that I can always return to it.\n",
    "- I am mostly interested on the ice surface area as a proxy metric/observable for the amount of ice."
   ]
  },
  {
   "cell_type": "markdown",
   "metadata": {
    "collapsed": false
   },
   "source": [
    "## Data\n",
    "\n",
    "- Updated June 2020\n",
    "- Can be obtained from [here](http://sustainabilitymath.org/excel/ArcticIceDataMonth-R.csv) \n",
    "- Data from the National Snow and Ice Data Center: http://nsidc.org; Sea Ice Index page http://nsidc.org/data/g02135.html; Data Located at  ftp://sidads.colorado.edu/DATASETS/NOAA/G02135/\n",
    " \n",
    "> Important Note: The \"extent\" column includes the area near the pole not\n",
    "> imaged by the sensor. It is assumed to be entirely ice covered with at\n",
    "> least 15% concentration. However, the \"area\" column excludes the area not\n",
    "> imaged by the sensor. This area is 1.19 million square kilometers for SMMR\n",
    "> (from the beginning of the series through June 1987) and 0.31 million\n",
    "> square kilometers for SSM/I (from July 1987 to present). Therefore, there\n",
    "> is a discontinuity in the \"area\" data values in this file at the June/July\n",
    "> 1987 boundary.\n",
    "> \n",
    "\n"
   ]
  },
  {
   "cell_type": "code",
   "execution_count": 24,
   "metadata": {
    "collapsed": false
   },
   "outputs": [
    {
     "name": "stdout",
     "output_type": "stream",
     "text": [
      "   year  Years after 1970    Jan    Feb    Mar    Apr    May    Jun    Jul  \\\n",
      "0  1979                 9  15.41  16.18  16.34  15.45  13.86  12.53  10.31   \n",
      "1  1980                10  14.86  15.96  16.04  15.43  13.79  12.20  10.10   \n",
      "2  1981                11  14.91  15.60  15.63  15.01  13.80  12.43  10.27   \n",
      "3  1982                12  15.18  15.97  16.04  15.47  13.97  12.48  10.37   \n",
      "4  1983                13  14.94  16.01  16.09  15.17  13.49  12.30  10.57   \n",
      "\n",
      "    Aug   Sep   Oct    Nov    Dec  \n",
      "0  8.04  7.05  8.75  10.94  13.34  \n",
      "1  7.98  7.67  9.18  11.38  13.59  \n",
      "2  7.84  7.14  8.86  10.93  13.34  \n",
      "3  8.14  7.30  9.42  11.63  13.64  \n",
      "4  8.19  7.39  9.33  11.46   13.3  \n",
      "    year  Years after 1970    Jan    Feb    Mar    Apr    May    Jun   Jul  \\\n",
      "36  2015                45   13.6  14.40  14.37  13.89  12.47  10.88  8.38   \n",
      "37  2016                46  13.46  14.20  14.40  13.68  11.92  10.41  7.94   \n",
      "38  2017                47  13.19  14.12  14.29  13.75  12.63  10.76  7.94   \n",
      "39  2018                48  13.08  13.97  14.30  13.70  12.23  10.78  8.27   \n",
      "40  2019                49  13.56  14.40  14.55  13.45  12.16  10.53  7.59   \n",
      "\n",
      "     Aug   Sep   Oct   Nov    Dec  \n",
      "36  5.60  4.62  6.97  9.85  12.04  \n",
      "37  5.37  4.53  6.08  8.66  11.46  \n",
      "38  5.48  4.82  6.77  9.49  11.74  \n",
      "39  5.61  4.79  6.13  9.82  11.86  \n",
      "40  5.03  4.32  5.66  9.33  11.95  \n",
      "looks good so far\n"
     ]
    }
   ],
   "source": [
    "import pandas as pd\n",
    "df = pd.read_csv(\"http://sustainabilitymath.org/excel/ArcticIceDataMonth-R.csv\")\n",
    "print(df.head())\n",
    "print(df.tail())\n",
    "\n",
    "print(\"looks good so far\")\n"
   ]
  },
  {
   "cell_type": "code",
   "execution_count": 25,
   "metadata": {
    "collapsed": false
   },
   "outputs": [
    {
     "name": "stdout",
     "output_type": "stream",
     "text": [
      "(41, 14)\n",
      "year                  int64\n",
      "Years after 1970      int64\n",
      "Jan                  object\n",
      "Feb                 float64\n",
      "Mar                 float64\n",
      "Apr                 float64\n",
      "May                 float64\n",
      "Jun                 float64\n",
      "Jul                 float64\n",
      "Aug                 float64\n",
      "Sep                 float64\n",
      "Oct                 float64\n",
      "Nov                 float64\n",
      "Dec                  object\n",
      "dtype: object\n",
      ">> whoops, Jan and Dec are of type `object`?\n"
     ]
    }
   ],
   "source": [
    "print(df.shape)\n",
    "print(df.dtypes)\n",
    "print(\">> whoops, Jan and Dec are of type `object`?\")"
   ]
  },
  {
   "cell_type": "code",
   "execution_count": 38,
   "metadata": {
    "collapsed": false
   },
   "outputs": [
    {
     "name": "stdout",
     "output_type": "stream",
     "text": [
      "      Jan\n",
      "0   15.41\n",
      "1   14.86\n",
      "2   14.91\n",
      "3   15.18\n",
      "4   14.94\n",
      "5   14.47\n",
      "6   14.72\n",
      "7   14.89\n",
      "8   14.97\n",
      "9   14.97\n",
      "10  14.95\n",
      "11  14.78\n",
      "12  14.36\n",
      "13  14.64\n",
      "14  14.90\n",
      "15  14.73\n",
      "16  14.59\n",
      "17  14.18\n",
      "18  14.42\n",
      "19  14.72\n",
      "20  14.36\n",
      "21  14.22\n",
      "22  14.20\n",
      "23  14.27\n",
      "24  14.39\n",
      "25  14.03\n",
      "26  13.66\n",
      "27  13.47\n",
      "28  13.70\n",
      "29  13.89\n",
      "30  13.91\n",
      "31  13.74\n",
      "32  13.46\n",
      "33  13.73\n",
      "34  13.70\n",
      "35  13.65\n",
      "36  13.60\n",
      "37  13.46\n",
      "38  13.19\n",
      "39  13.08\n",
      "40  13.56\n",
      "      Jan\n",
      "0   15.41\n",
      "1   14.86\n",
      "2   14.91\n",
      "3   15.18\n",
      "4   14.94\n",
      "5   14.47\n",
      "6   14.72\n",
      "7   14.89\n",
      "8   14.97\n",
      "9   14.97\n",
      "10  14.95\n",
      "11  14.78\n",
      "12  14.36\n",
      "13  14.64\n",
      "14  14.90\n",
      "15  14.73\n",
      "16  14.59\n",
      "17  14.18\n",
      "18  14.42\n",
      "19  14.72\n",
      "20  14.36\n",
      "21  14.22\n",
      "22  14.20\n",
      "23  14.27\n",
      "24  14.39\n",
      "25  14.03\n",
      "26  13.66\n",
      "27  13.47\n",
      "28  13.70\n",
      "29  13.89\n",
      "30  13.91\n",
      "31  13.74\n",
      "32  13.46\n",
      "33  13.73\n",
      "34  13.70\n",
      "35  13.65\n",
      "36  13.60\n",
      "37  13.46\n",
      "38  13.19\n",
      "39  13.08\n",
      "40  13.56\n"
     ]
    }
   ],
   "source": [
    "jan_col = df[[\"Jan\"]]\n",
    "print(jan_col)\n",
    "df.iloc[:,2] = pd.to_numeric(df.iloc[:,2], errors='coerce')\n",
    "print(df[[\"Jan\"]])\n",
    "#see https://stackoverflow.com/a/28648923/3098688"
   ]
  },
  {
   "cell_type": "code",
   "execution_count": 39,
   "metadata": {
    "collapsed": false
   },
   "outputs": [
    {
     "name": "stdout",
     "output_type": "stream",
     "text": [
      "      Jan\n",
      "0   15.41\n",
      "1   14.86\n",
      "2   14.91\n",
      "3   15.18\n",
      "4   14.94\n",
      "5   14.47\n",
      "6   14.72\n",
      "7   14.89\n",
      "8   14.97\n",
      "9   14.97\n",
      "10  14.95\n",
      "11  14.78\n",
      "12  14.36\n",
      "13  14.64\n",
      "14  14.90\n",
      "15  14.73\n",
      "16  14.59\n",
      "17  14.18\n",
      "18  14.42\n",
      "19  14.72\n",
      "20  14.36\n",
      "21  14.22\n",
      "22  14.20\n",
      "23  14.27\n",
      "24  14.39\n",
      "25  14.03\n",
      "26  13.66\n",
      "27  13.47\n",
      "28  13.70\n",
      "29  13.89\n",
      "30  13.91\n",
      "31  13.74\n",
      "32  13.46\n",
      "33  13.73\n",
      "34  13.70\n",
      "35  13.65\n",
      "36  13.60\n",
      "37  13.46\n",
      "38  13.19\n",
      "39  13.08\n",
      "40  13.56\n"
     ]
    }
   ],
   "source": [
    "#fill NaN values\n",
    "df[[\"Jan\"]] = df[[\"Jan\"]].fillna(method='ffill')\n",
    "print(df[[\"Jan\"]])"
   ]
  },
  {
   "cell_type": "code",
   "execution_count": 40,
   "metadata": {
    "collapsed": false
   },
   "outputs": [
    {
     "data": {
      "text/plain": [
       "year                  int64\n",
       "Years after 1970      int64\n",
       "Jan                 float64\n",
       "Feb                 float64\n",
       "Mar                 float64\n",
       "Apr                 float64\n",
       "May                 float64\n",
       "Jun                 float64\n",
       "Jul                 float64\n",
       "Aug                 float64\n",
       "Sep                 float64\n",
       "Oct                 float64\n",
       "Nov                 float64\n",
       "Dec                 float64\n",
       "dtype: object"
      ]
     },
     "execution_count": 40,
     "metadata": {},
     "output_type": "execute_result"
    }
   ],
   "source": [
    "df.iloc[:,-1] = pd.to_numeric(df.iloc[:,-1], errors=\"coerce\").fillna(method='ffill')\n",
    "df.dtypes"
   ]
  },
  {
   "cell_type": "code",
   "execution_count": 45,
   "metadata": {
    "collapsed": false
   },
   "outputs": [
    {
     "name": "stdout",
     "output_type": "stream",
     "text": [
      "[15.41 16.18 16.34 15.45 13.86 12.53 10.31  8.04  7.05  8.75 10.94 13.34]\n",
      "2\n",
      "8\n",
      "[13.56 14.4  14.55 13.45 12.16 10.53  7.59  5.03  4.32  5.66  9.33 11.95]\n",
      "2\n",
      "8\n"
     ]
    }
   ],
   "source": [
    "#checking the assumption which month is the coldest, i.e. has the largest extent of ice\n",
    "import numpy as np\n",
    "\n",
    "#first row\n",
    "firstrow = df.iloc[0,2:].values\n",
    "print(firstrow)\n",
    "print(np.argmax(firstrow))\n",
    "print(np.argmin(firstrow))\n",
    "\n",
    "#last row\n",
    "lastrow = df.iloc[-1,2:].values\n",
    "print(lastrow)\n",
    "print(np.argmax(lastrow))\n",
    "print(np.argmin(lastrow))\n"
   ]
  },
  {
   "cell_type": "markdown",
   "metadata": {
    "collapsed": false
   },
   "source": [
    "## Analysis\n",
    "\n",
    "Let's look at the data first."
   ]
  },
  {
   "cell_type": "code",
   "execution_count": 50,
   "metadata": {
    "collapsed": false
   },
   "outputs": [
    {
     "data": {
      "text/plain": [
       "<AxesSubplot:xlabel='year'>"
      ]
     },
     "execution_count": 50,
     "metadata": {},
     "output_type": "execute_result"
    },
    {
     "data": {
      "image/png": "[encoded data removed]",
      "text/plain": [
       "<Figure size 432x288 with 1 Axes>"
      ]
     },
     "metadata": {
      "needs_background": "light"
     },
     "output_type": "display_data"
    }
   ],
   "source": [
    "df.plot(x=\"year\", y=\"Mar\", kind=\"line\")"
   ]
  },
  {
   "cell_type": "code",
   "execution_count": null,
   "metadata": {
    "collapsed": false
   },
   "outputs": [],
   "source": [
    "df[[\"Mar\"]].plot"
   ]
  },
  {
   "cell_type": "code",
   "execution_count": 51,
   "metadata": {
    "collapsed": false
   },
   "outputs": [
    {
     "data": {
      "text/plain": [
       "<AxesSubplot:xlabel='year'>"
      ]
     },
     "execution_count": 51,
     "metadata": {},
     "output_type": "execute_result"
    },
    {
     "data": {
      "image/png": "[encoded data removed]",
      "text/plain": [
       "<Figure size 432x288 with 1 Axes>"
      ]
     },
     "metadata": {
      "needs_background": "light"
     },
     "output_type": "display_data"
    }
   ],
   "source": [
    "df.plot(x=\"year\", y=\"Sep\", kind=\"line\")"
   ]
  },
  {
   "cell_type": "code",
   "execution_count": 52,
   "metadata": {
    "collapsed": false
   },
   "outputs": [
    {
     "data": {
      "text/plain": [
       "<AxesSubplot:xlabel='year'>"
      ]
     },
     "execution_count": 52,
     "metadata": {},
     "output_type": "execute_result"
    },
    {
     "data": {
      "image/png": "[encoded data removed]",
      "text/plain": [
       "<Figure size 432x288 with 1 Axes>"
      ]
     },
     "metadata": {
      "needs_background": "light"
     },
     "output_type": "display_data"
    }
   ],
   "source": [
    "df.plot(x=\"year\", y=\"Jan\", kind=\"line\")\n"
   ]
  },
  {
   "cell_type": "code",
   "execution_count": null,
   "metadata": {
    "collapsed": false
   },
   "outputs": [],
   "source": []
  }
 ],
 "metadata": {
  "kernelspec": {
   "argv": [
    "python",
    "-m",
    "ipykernel_launcher",
    "-f",
    "{connection_file}"
   ],
   "display_name": "Python 3",
   "env": null,
   "interrupt_mode": "signal",
   "language": "python",
   "metadata": null,
   "name": "python3"
  },
  "name": "script.ipynb"
 },
 "nbformat": 4,
 "nbformat_minor": 4
}
